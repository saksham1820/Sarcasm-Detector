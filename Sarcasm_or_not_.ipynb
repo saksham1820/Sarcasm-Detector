{
  "nbformat": 4,
  "nbformat_minor": 0,
  "metadata": {
    "colab": {
      "name": "Sarcasm-or-not?",
      "provenance": []
    },
    "kernelspec": {
      "name": "python3",
      "display_name": "Python 3"
    },
    "accelerator": "GPU"
  },
  "cells": [
    {
      "cell_type": "code",
      "metadata": {
        "id": "7fy3EOGURVX3",
        "colab_type": "code",
        "colab": {}
      },
      "source": [
        "import tensorflow as tf\n",
        "from tensorflow.keras.preprocessing.text import Tokenizer\n",
        "from tensorflow.keras.preprocessing.sequence import pad_sequences\n",
        "import numpy as np\n",
        "import json\n",
        "import zipfile\n",
        "import random"
      ],
      "execution_count": 37,
      "outputs": []
    },
    {
      "cell_type": "code",
      "metadata": {
        "id": "CTjo8wyiSJ1-",
        "colab_type": "code",
        "colab": {}
      },
      "source": [
        "zip_ref = zipfile.ZipFile('/content/30764_533474_bundle_archive (1).zip')\n",
        "zip_ref.extractall()\n",
        "zip_ref.close()"
      ],
      "execution_count": 6,
      "outputs": []
    },
    {
      "cell_type": "code",
      "metadata": {
        "id": "N0KKOPuXS6oN",
        "colab_type": "code",
        "colab": {}
      },
      "source": [
        "file = '/content/Sarcasm_Headlines_Dataset.json'\n",
        "\n",
        "def parse_data(file):\n",
        "    for l in open(file,'r'):\n",
        "        yield json.loads(l)\n",
        "\n",
        "data = list(parse_data(file))"
      ],
      "execution_count": 7,
      "outputs": []
    },
    {
      "cell_type": "code",
      "metadata": {
        "id": "hcuaapm-TKnE",
        "colab_type": "code",
        "colab": {}
      },
      "source": [
        "dataset = data.copy()"
      ],
      "execution_count": 11,
      "outputs": []
    },
    {
      "cell_type": "code",
      "metadata": {
        "id": "W8ltY8EyTLi8",
        "colab_type": "code",
        "colab": {}
      },
      "source": [
        "corpus = [[dataset[i]['headline'], dataset[i]['is_sarcastic']] for i in range(len(dataset))]"
      ],
      "execution_count": 15,
      "outputs": []
    },
    {
      "cell_type": "code",
      "metadata": {
        "id": "j1A-bqjE3d7N",
        "colab_type": "code",
        "colab": {
          "base_uri": "https://localhost:8080/",
          "height": 50
        },
        "outputId": "e6184405-74e9-4f3d-9617-55a10b9b3e44"
      },
      "source": [
        "print(len(corpus))\n",
        "print(corpus[1201])"
      ],
      "execution_count": 130,
      "outputs": [
        {
          "output_type": "stream",
          "text": [
            "26709\n",
            "['officemates unwittingly spend entire workday talking to each other on grindr', 1]\n"
          ],
          "name": "stdout"
        }
      ]
    },
    {
      "cell_type": "code",
      "metadata": {
        "id": "I5yW4Aem5cMn",
        "colab_type": "code",
        "colab": {}
      },
      "source": [
        "test_frac = 0.3\n",
        "training_size = len(corpus)\n",
        "split = int(training_size * test_frac)\n",
        "embedding_dim = 16\n",
        "max_len = 100\n",
        "oov_tok = '<OOV>'\n",
        "trunc_type = 'post'\n",
        "padding_type = 'post'\n",
        "vocab_size = 10000"
      ],
      "execution_count": 38,
      "outputs": []
    },
    {
      "cell_type": "code",
      "metadata": {
        "id": "o_OA-LiW7d3s",
        "colab_type": "code",
        "colab": {}
      },
      "source": [
        "sentences = []\n",
        "labels = []\n",
        "random.shuffle(corpus)\n",
        "\n",
        "for x in range(training_size):\n",
        "  sentences.append(corpus[x][0])\n",
        "  labels.append(corpus[x][1])\n",
        "\n",
        "testing_sentences = sentences[:split]\n",
        "training_sentences = sentences[split:]\n",
        "testing_labels = labels[:split]\n",
        "training_labels = labels[split:]"
      ],
      "execution_count": 35,
      "outputs": []
    },
    {
      "cell_type": "code",
      "metadata": {
        "id": "3YVrYc2K_gQD",
        "colab_type": "code",
        "colab": {
          "base_uri": "https://localhost:8080/",
          "height": 101
        },
        "outputId": "7b676dc6-7077-406a-e469-84b2cc6d5783"
      },
      "source": [
        "print('total sentences in the corpus are ', len(sentences))\n",
        "print('total sentences in the training set are ', len(training_sentences))\n",
        "print('total sentences in the testing set are ', len(testing_sentences))\n",
        "print('total labels in the training set are ', len(training_labels))\n",
        "print('total labels in the testing set are ', len(testing_labels))\n",
        "#print(len(training_sentences)+len(testing_sentences))"
      ],
      "execution_count": 36,
      "outputs": [
        {
          "output_type": "stream",
          "text": [
            "total sentences in the corpus are  26709\n",
            "total sentences in the training set are  18697\n",
            "total sentences in the testing set are  8012\n",
            "total labels in the training set are  18697\n",
            "total labels in the testing set are  8012\n"
          ],
          "name": "stdout"
        }
      ]
    },
    {
      "cell_type": "code",
      "metadata": {
        "id": "0BTnB3lS_i25",
        "colab_type": "code",
        "colab": {}
      },
      "source": [
        "tokenizer = Tokenizer(num_words = vocab_size, oov_token = oov_tok)\n",
        "tokenizer.fit_on_texts(training_sentences)\n",
        "\n",
        "word_index = tokenizer.word_index\n",
        "\n",
        "training_sequences = tokenizer.texts_to_sequences(training_sentences)\n",
        "padded_training_sequences = pad_sequences(training_sequences, maxlen = max_len, padding = padding_type, truncating = trunc_type)\n",
        "\n",
        "testing_sequences = tokenizer.texts_to_sequences(testing_sentences)\n",
        "padded_testing_sequences = pad_sequences(testing_sequences, maxlen = max_len, padding = padding_type, truncating = trunc_type)"
      ],
      "execution_count": 61,
      "outputs": []
    },
    {
      "cell_type": "code",
      "metadata": {
        "id": "p8WDGYQGFQZI",
        "colab_type": "code",
        "colab": {}
      },
      "source": [
        "padded_training_sequences = np.array(padded_training_sequences)\n",
        "padded_testing_sequences = np.array(padded_testing_sequences)\n",
        "training_labels = np.array(training_labels)\n",
        "testing_labels = np.array(testing_labels)"
      ],
      "execution_count": 62,
      "outputs": []
    },
    {
      "cell_type": "code",
      "metadata": {
        "id": "hRXPdOU5FRSH",
        "colab_type": "code",
        "colab": {
          "base_uri": "https://localhost:8080/",
          "height": 34
        },
        "outputId": "57feb27c-2821-4678-ca63-a61929ba1eb0"
      },
      "source": [
        "padded_testing_sequences.shape\n",
        "training_labels.shape"
      ],
      "execution_count": 78,
      "outputs": [
        {
          "output_type": "execute_result",
          "data": {
            "text/plain": [
              "(18697,)"
            ]
          },
          "metadata": {
            "tags": []
          },
          "execution_count": 78
        }
      ]
    },
    {
      "cell_type": "code",
      "metadata": {
        "id": "fv11WMfmJBzm",
        "colab_type": "code",
        "colab": {}
      },
      "source": [
        "model = tf.keras.Sequential([tf.keras.layers.Embedding(vocab_size, embedding_dim, input_length = max_len),\n",
        "                             tf.keras.layers.SpatialDropout1D(0.5),\n",
        "                             tf.keras.layers.Bidirectional(tf.keras.layers.LSTM(64, input_shape = (18697, 100))),\n",
        "                             tf.keras.layers.Dense(32, activation = 'relu'),\n",
        "                             tf.keras.layers.Dropout(0.2),\n",
        "                             tf.keras.layers.Dense(1, activation = 'sigmoid')])\n",
        "model.compile(optimizer = 'adam',\n",
        "              loss = 'binary_crossentropy',\n",
        "              metrics = ['accuracy'])"
      ],
      "execution_count": 147,
      "outputs": []
    },
    {
      "cell_type": "code",
      "metadata": {
        "id": "SjUdFaouMl0f",
        "colab_type": "code",
        "colab": {
          "base_uri": "https://localhost:8080/",
          "height": 353
        },
        "outputId": "e1e6c24b-c4a0-4c06-b839-667daed27edb"
      },
      "source": [
        "model.summary()"
      ],
      "execution_count": 148,
      "outputs": [
        {
          "output_type": "stream",
          "text": [
            "Model: \"sequential_16\"\n",
            "_________________________________________________________________\n",
            "Layer (type)                 Output Shape              Param #   \n",
            "=================================================================\n",
            "embedding_18 (Embedding)     (None, 100, 16)           160000    \n",
            "_________________________________________________________________\n",
            "spatial_dropout1d_5 (Spatial (None, 100, 16)           0         \n",
            "_________________________________________________________________\n",
            "bidirectional_14 (Bidirectio (None, 128)               41472     \n",
            "_________________________________________________________________\n",
            "dense_32 (Dense)             (None, 32)                4128      \n",
            "_________________________________________________________________\n",
            "dropout_10 (Dropout)         (None, 32)                0         \n",
            "_________________________________________________________________\n",
            "dense_33 (Dense)             (None, 1)                 33        \n",
            "=================================================================\n",
            "Total params: 205,633\n",
            "Trainable params: 205,633\n",
            "Non-trainable params: 0\n",
            "_________________________________________________________________\n"
          ],
          "name": "stdout"
        }
      ]
    },
    {
      "cell_type": "code",
      "metadata": {
        "id": "HUxYexQQKM_i",
        "colab_type": "code",
        "colab": {
          "base_uri": "https://localhost:8080/",
          "height": 185
        },
        "outputId": "669b89d0-af93-4d9a-ee6c-3fcf6035b97e"
      },
      "source": [
        "history = model.fit(padded_training_sequences, training_labels,\n",
        "                    epochs = 5,\n",
        "                    validation_data = (padded_testing_sequences, testing_labels))"
      ],
      "execution_count": 149,
      "outputs": [
        {
          "output_type": "stream",
          "text": [
            "Epoch 1/5\n",
            "585/585 [==============================] - 29s 49ms/step - loss: 0.4572 - accuracy: 0.7748 - val_loss: 0.3510 - val_accuracy: 0.8416\n",
            "Epoch 2/5\n",
            "585/585 [==============================] - 28s 48ms/step - loss: 0.2754 - accuracy: 0.8900 - val_loss: 0.3346 - val_accuracy: 0.8531\n",
            "Epoch 3/5\n",
            "585/585 [==============================] - 28s 48ms/step - loss: 0.2157 - accuracy: 0.9181 - val_loss: 0.3450 - val_accuracy: 0.8487\n",
            "Epoch 4/5\n",
            "585/585 [==============================] - 28s 48ms/step - loss: 0.1782 - accuracy: 0.9333 - val_loss: 0.3876 - val_accuracy: 0.8459\n",
            "Epoch 5/5\n",
            "585/585 [==============================] - 28s 48ms/step - loss: 0.1495 - accuracy: 0.9458 - val_loss: 0.3887 - val_accuracy: 0.8457\n"
          ],
          "name": "stdout"
        }
      ]
    },
    {
      "cell_type": "code",
      "metadata": {
        "id": "KqcQ-l-BKjgE",
        "colab_type": "code",
        "colab": {
          "base_uri": "https://localhost:8080/",
          "height": 562
        },
        "outputId": "20400a83-3186-4f3e-f85b-85176be662fd"
      },
      "source": [
        "import matplotlib.pyplot as plt\n",
        "acc = history.history['accuracy']\n",
        "val_acc = history.history['val_accuracy']\n",
        "loss = history.history['loss']\n",
        "val_loss = history.history['val_loss']\n",
        "\n",
        "epochs = range(len(acc))\n",
        "\n",
        "plt.plot(epochs, acc, label = 'Training Accuracy', color = 'blue')\n",
        "plt.plot(epochs, val_acc, label = 'Validation Accuracy', color = 'red')\n",
        "plt.grid('on')\n",
        "plt.title('Training and Validation Accuracy')\n",
        "plt.legend()\n",
        "\n",
        "plt.figure()\n",
        "\n",
        "plt.plot(epochs, loss, label = 'Training Loss', color = 'blue')\n",
        "plt.plot(epochs, val_loss, label = 'Validation Loss',color = 'red')\n",
        "plt.grid('on')\n",
        "plt.title('Training and Validation Loss')\n",
        "plt.legend()"
      ],
      "execution_count": 150,
      "outputs": [
        {
          "output_type": "execute_result",
          "data": {
            "text/plain": [
              "<matplotlib.legend.Legend at 0x7f9d894aaf60>"
            ]
          },
          "metadata": {
            "tags": []
          },
          "execution_count": 150
        },
        {
          "output_type": "display_data",
          "data": {
            "image/png": "[encoded data removed]",
            "text/plain": [
              "<Figure size 432x288 with 1 Axes>"
            ]
          },
          "metadata": {
            "tags": [],
            "needs_background": "light"
          }
        },
        {
          "output_type": "display_data",
          "data": {
            "image/png": "[encoded data removed]",
            "text/plain": [
              "<Figure size 432x288 with 1 Axes>"
            ]
          },
          "metadata": {
            "tags": [],
            "needs_background": "light"
          }
        }
      ]
    },
    {
      "cell_type": "code",
      "metadata": {
        "id": "i5Ur-o9uPAiT",
        "colab_type": "code",
        "colab": {
          "base_uri": "https://localhost:8080/",
          "height": 50
        },
        "outputId": "f4dec298-8654-4fbd-978f-9ec2e1f62d75"
      },
      "source": [
        "headline = [\"My life is great! I want to die!\"]\n",
        "headline = tokenizer.texts_to_sequences(headline)\n",
        "headline = pad_sequences(headline, maxlen=max_len, padding = padding_type, truncating = trunc_type)\n",
        "\n",
        "sentiment = model.predict(headline,batch_size=1,verbose = 2)[0]\n",
        "print(sentiment)"
      ],
      "execution_count": 154,
      "outputs": [
        {
          "output_type": "stream",
          "text": [
            "1/1 - 0s\n",
            "[0.00011603]\n"
          ],
          "name": "stdout"
        }
      ]
    },
    {
      "cell_type": "code",
      "metadata": {
        "id": "p7Tirua0ezOP",
        "colab_type": "code",
        "colab": {}
      },
      "source": [
        ""
      ],
      "execution_count": null,
      "outputs": []
    }
  ]
}